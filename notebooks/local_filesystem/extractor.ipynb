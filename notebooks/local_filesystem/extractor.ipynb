{
 "cells": [
  {
   "cell_type": "code",
   "execution_count": null,
   "id": "12754989-33e9-4924-9b23-b6a7122b58a4",
   "metadata": {
    "tags": []
   },
   "outputs": [],
   "source": [
    "# trafilatura (https://trafilatura.readthedocs.io/)を使ってWebページからテキストを抽出します\n",
    "! pip install trafilatura"
   ]
  },
  {
   "cell_type": "code",
   "execution_count": null,
   "id": "3fac03b1-f951-4277-b235-297a82b91bfb",
   "metadata": {
    "tags": []
   },
   "outputs": [],
   "source": [
    "# テキストデータベースの準備\n",
    "\n",
    "from trafilatura import fetch_url, extract\n",
    "\n",
    "url = \"https://www.nutanixbible.jp/\"\n",
    "filename = \"data/nutanixbible.txt\"\n",
    "\n",
    "# ウェブページをダウンロード\n",
    "http_response = fetch_url(url)\n",
    "\n",
    "# HTML から本文を抽出\n",
    "html_content = extract(http_response)\n",
    "\n",
    "# どのようなデータが取得出来ているか確認するために文章の先頭 300 文字を表示\n",
    "print(f\"ダウンロードしたHTMLの文章先頭部分：\\n{html_content[:300]}\")\n",
    "\n",
    "# HTMLの本文を保存\n",
    "with open(filename, \"w\", encoding=\"utf-8\") as f:\n",
    "    f.write(html_content)"
   ]
  },
  {
   "cell_type": "code",
   "execution_count": null,
   "id": "edff9fee-8a03-4aea-9bb6-749cb5535e1f",
   "metadata": {},
   "outputs": [],
   "source": []
  }
 ],
 "metadata": {
  "kernelspec": {
   "display_name": "Python 3 (ipykernel)",
   "language": "python",
   "name": "python3"
  },
  "language_info": {
   "codemirror_mode": {
    "name": "ipython",
    "version": 3
   },
   "file_extension": ".py",
   "mimetype": "text/x-python",
   "name": "python",
   "nbconvert_exporter": "python",
   "pygments_lexer": "ipython3",
   "version": "3.10.12"
  }
 },
 "nbformat": 4,
 "nbformat_minor": 5
}
