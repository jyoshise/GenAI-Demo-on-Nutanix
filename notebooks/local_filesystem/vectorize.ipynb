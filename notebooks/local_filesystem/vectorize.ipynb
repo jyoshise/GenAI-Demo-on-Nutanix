{
 "cells": [
  {
   "cell_type": "code",
   "execution_count": 1,
   "id": "b94b789a-464a-4e0f-ac24-f9192eb9aca0",
   "metadata": {
    "tags": []
   },
   "outputs": [
    {
     "name": "stdout",
     "output_type": "stream",
     "text": [
      "Defaulting to user installation because normal site-packages is not writeable\n",
      "Requirement already satisfied: transformers in /home/user1/.local/lib/python3.10/site-packages (4.35.2)\n",
      "Requirement already satisfied: accelerate in /home/user1/.local/lib/python3.10/site-packages (0.25.0)\n",
      "Requirement already satisfied: langchain in /home/user1/.local/lib/python3.10/site-packages (0.0.346)\n",
      "Requirement already satisfied: tiktoken in /home/user1/.local/lib/python3.10/site-packages (0.5.2)\n",
      "Requirement already satisfied: sentence_transformers in /home/user1/.local/lib/python3.10/site-packages (2.2.2)\n",
      "Collecting faiss-gpu\n",
      "  Downloading faiss_gpu-1.7.2-cp310-cp310-manylinux_2_17_x86_64.manylinux2014_x86_64.whl (85.5 MB)\n",
      "\u001b[2K     \u001b[90m━━━━━━━━━━━━━━━━━━━━━━━━━━━━━━━━━━━━━━━━\u001b[0m \u001b[32m85.5/85.5 MB\u001b[0m \u001b[31m8.7 MB/s\u001b[0m eta \u001b[36m0:00:00\u001b[0m:00:01\u001b[0m00:01\u001b[0m\n",
      "\u001b[?25hRequirement already satisfied: numpy>=1.17 in /home/user1/.local/lib/python3.10/site-packages (from transformers) (1.26.2)\n",
      "Requirement already satisfied: filelock in /home/user1/.local/lib/python3.10/site-packages (from transformers) (3.13.1)\n",
      "Requirement already satisfied: packaging>=20.0 in /usr/local/lib/python3.10/dist-packages (from transformers) (23.2)\n",
      "Requirement already satisfied: safetensors>=0.3.1 in /home/user1/.local/lib/python3.10/site-packages (from transformers) (0.4.1)\n",
      "Requirement already satisfied: huggingface-hub<1.0,>=0.16.4 in /home/user1/.local/lib/python3.10/site-packages (from transformers) (0.19.4)\n",
      "Requirement already satisfied: requests in /usr/local/lib/python3.10/dist-packages (from transformers) (2.31.0)\n",
      "Requirement already satisfied: pyyaml>=5.1 in /usr/lib/python3/dist-packages (from transformers) (5.4.1)\n",
      "Requirement already satisfied: tqdm>=4.27 in /home/user1/.local/lib/python3.10/site-packages (from transformers) (4.66.1)\n",
      "Requirement already satisfied: tokenizers<0.19,>=0.14 in /home/user1/.local/lib/python3.10/site-packages (from transformers) (0.15.0)\n",
      "Requirement already satisfied: regex!=2019.12.17 in /home/user1/.local/lib/python3.10/site-packages (from transformers) (2023.10.3)\n",
      "Requirement already satisfied: torch>=1.10.0 in /home/user1/.local/lib/python3.10/site-packages (from accelerate) (2.1.1)\n",
      "Requirement already satisfied: psutil in /usr/local/lib/python3.10/dist-packages (from accelerate) (5.9.6)\n",
      "Requirement already satisfied: SQLAlchemy<3,>=1.4 in /usr/local/lib/python3.10/dist-packages (from langchain) (2.0.23)\n",
      "Requirement already satisfied: aiohttp<4.0.0,>=3.8.3 in /home/user1/.local/lib/python3.10/site-packages (from langchain) (3.9.1)\n",
      "Requirement already satisfied: async-timeout<5.0.0,>=4.0.0 in /home/user1/.local/lib/python3.10/site-packages (from langchain) (4.0.3)\n",
      "Requirement already satisfied: langsmith<0.1.0,>=0.0.63 in /home/user1/.local/lib/python3.10/site-packages (from langchain) (0.0.69)\n",
      "Requirement already satisfied: pydantic<3,>=1 in /home/user1/.local/lib/python3.10/site-packages (from langchain) (2.5.2)\n",
      "Requirement already satisfied: langchain-core<0.1,>=0.0.10 in /home/user1/.local/lib/python3.10/site-packages (from langchain) (0.0.10)\n",
      "Requirement already satisfied: tenacity<9.0.0,>=8.1.0 in /home/user1/.local/lib/python3.10/site-packages (from langchain) (8.2.3)\n",
      "Requirement already satisfied: anyio<4.0 in /home/user1/.local/lib/python3.10/site-packages (from langchain) (3.7.1)\n",
      "Requirement already satisfied: jsonpatch<2.0,>=1.33 in /home/user1/.local/lib/python3.10/site-packages (from langchain) (1.33)\n",
      "Requirement already satisfied: dataclasses-json<0.7,>=0.5.7 in /home/user1/.local/lib/python3.10/site-packages (from langchain) (0.6.3)\n",
      "Requirement already satisfied: torchvision in /home/user1/.local/lib/python3.10/site-packages (from sentence_transformers) (0.16.1)\n",
      "Requirement already satisfied: scikit-learn in /home/user1/.local/lib/python3.10/site-packages (from sentence_transformers) (1.3.2)\n",
      "Requirement already satisfied: sentencepiece in /home/user1/.local/lib/python3.10/site-packages (from sentence_transformers) (0.1.99)\n",
      "Requirement already satisfied: scipy in /home/user1/.local/lib/python3.10/site-packages (from sentence_transformers) (1.11.4)\n",
      "Requirement already satisfied: nltk in /home/user1/.local/lib/python3.10/site-packages (from sentence_transformers) (3.8.1)\n",
      "Requirement already satisfied: yarl<2.0,>=1.0 in /home/user1/.local/lib/python3.10/site-packages (from aiohttp<4.0.0,>=3.8.3->langchain) (1.9.3)\n",
      "Requirement already satisfied: multidict<7.0,>=4.5 in /home/user1/.local/lib/python3.10/site-packages (from aiohttp<4.0.0,>=3.8.3->langchain) (6.0.4)\n",
      "Requirement already satisfied: frozenlist>=1.1.1 in /home/user1/.local/lib/python3.10/site-packages (from aiohttp<4.0.0,>=3.8.3->langchain) (1.4.0)\n",
      "Requirement already satisfied: aiosignal>=1.1.2 in /home/user1/.local/lib/python3.10/site-packages (from aiohttp<4.0.0,>=3.8.3->langchain) (1.3.1)\n",
      "Requirement already satisfied: attrs>=17.3.0 in /usr/local/lib/python3.10/dist-packages (from aiohttp<4.0.0,>=3.8.3->langchain) (23.1.0)\n",
      "Requirement already satisfied: sniffio>=1.1 in /usr/local/lib/python3.10/dist-packages (from anyio<4.0->langchain) (1.3.0)\n",
      "Requirement already satisfied: exceptiongroup in /usr/local/lib/python3.10/dist-packages (from anyio<4.0->langchain) (1.2.0)\n",
      "Requirement already satisfied: idna>=2.8 in /usr/lib/python3/dist-packages (from anyio<4.0->langchain) (3.3)\n",
      "Requirement already satisfied: typing-inspect<1,>=0.4.0 in /home/user1/.local/lib/python3.10/site-packages (from dataclasses-json<0.7,>=0.5.7->langchain) (0.9.0)\n",
      "Requirement already satisfied: marshmallow<4.0.0,>=3.18.0 in /home/user1/.local/lib/python3.10/site-packages (from dataclasses-json<0.7,>=0.5.7->langchain) (3.20.1)\n",
      "Requirement already satisfied: typing-extensions>=3.7.4.3 in /usr/local/lib/python3.10/dist-packages (from huggingface-hub<1.0,>=0.16.4->transformers) (4.8.0)\n",
      "Requirement already satisfied: fsspec>=2023.5.0 in /home/user1/.local/lib/python3.10/site-packages (from huggingface-hub<1.0,>=0.16.4->transformers) (2023.12.1)\n",
      "Requirement already satisfied: jsonpointer>=1.9 in /usr/lib/python3/dist-packages (from jsonpatch<2.0,>=1.33->langchain) (2.0)\n",
      "Requirement already satisfied: annotated-types>=0.4.0 in /home/user1/.local/lib/python3.10/site-packages (from pydantic<3,>=1->langchain) (0.6.0)\n",
      "Requirement already satisfied: pydantic-core==2.14.5 in /home/user1/.local/lib/python3.10/site-packages (from pydantic<3,>=1->langchain) (2.14.5)\n",
      "Requirement already satisfied: certifi>=2017.4.17 in /usr/lib/python3/dist-packages (from requests->transformers) (2020.6.20)\n",
      "Requirement already satisfied: urllib3<3,>=1.21.1 in /usr/lib/python3/dist-packages (from requests->transformers) (1.26.5)\n",
      "Requirement already satisfied: charset-normalizer<4,>=2 in /usr/local/lib/python3.10/dist-packages (from requests->transformers) (3.3.2)\n",
      "Requirement already satisfied: greenlet!=0.4.17 in /usr/local/lib/python3.10/dist-packages (from SQLAlchemy<3,>=1.4->langchain) (3.0.1)\n",
      "Requirement already satisfied: nvidia-nccl-cu12==2.18.1 in /home/user1/.local/lib/python3.10/site-packages (from torch>=1.10.0->accelerate) (2.18.1)\n",
      "Requirement already satisfied: nvidia-curand-cu12==10.3.2.106 in /home/user1/.local/lib/python3.10/site-packages (from torch>=1.10.0->accelerate) (10.3.2.106)\n",
      "Requirement already satisfied: nvidia-cusparse-cu12==12.1.0.106 in /home/user1/.local/lib/python3.10/site-packages (from torch>=1.10.0->accelerate) (12.1.0.106)\n",
      "Requirement already satisfied: nvidia-cufft-cu12==11.0.2.54 in /home/user1/.local/lib/python3.10/site-packages (from torch>=1.10.0->accelerate) (11.0.2.54)\n",
      "Requirement already satisfied: networkx in /home/user1/.local/lib/python3.10/site-packages (from torch>=1.10.0->accelerate) (3.2.1)\n",
      "Requirement already satisfied: nvidia-nvtx-cu12==12.1.105 in /home/user1/.local/lib/python3.10/site-packages (from torch>=1.10.0->accelerate) (12.1.105)\n",
      "Requirement already satisfied: nvidia-cudnn-cu12==8.9.2.26 in /home/user1/.local/lib/python3.10/site-packages (from torch>=1.10.0->accelerate) (8.9.2.26)\n",
      "Requirement already satisfied: triton==2.1.0 in /home/user1/.local/lib/python3.10/site-packages (from torch>=1.10.0->accelerate) (2.1.0)\n",
      "Requirement already satisfied: jinja2 in /usr/lib/python3/dist-packages (from torch>=1.10.0->accelerate) (3.0.3)\n",
      "Requirement already satisfied: nvidia-cuda-nvrtc-cu12==12.1.105 in /home/user1/.local/lib/python3.10/site-packages (from torch>=1.10.0->accelerate) (12.1.105)\n",
      "Requirement already satisfied: nvidia-cusolver-cu12==11.4.5.107 in /home/user1/.local/lib/python3.10/site-packages (from torch>=1.10.0->accelerate) (11.4.5.107)\n",
      "Requirement already satisfied: sympy in /home/user1/.local/lib/python3.10/site-packages (from torch>=1.10.0->accelerate) (1.12)\n",
      "Requirement already satisfied: nvidia-cublas-cu12==12.1.3.1 in /home/user1/.local/lib/python3.10/site-packages (from torch>=1.10.0->accelerate) (12.1.3.1)\n",
      "Requirement already satisfied: nvidia-cuda-runtime-cu12==12.1.105 in /home/user1/.local/lib/python3.10/site-packages (from torch>=1.10.0->accelerate) (12.1.105)\n",
      "Requirement already satisfied: nvidia-cuda-cupti-cu12==12.1.105 in /home/user1/.local/lib/python3.10/site-packages (from torch>=1.10.0->accelerate) (12.1.105)\n",
      "Requirement already satisfied: nvidia-nvjitlink-cu12 in /home/user1/.local/lib/python3.10/site-packages (from nvidia-cusolver-cu12==11.4.5.107->torch>=1.10.0->accelerate) (12.3.101)\n",
      "Requirement already satisfied: joblib in /home/user1/.local/lib/python3.10/site-packages (from nltk->sentence_transformers) (1.3.2)\n",
      "Requirement already satisfied: click in /usr/lib/python3/dist-packages (from nltk->sentence_transformers) (8.0.3)\n",
      "Requirement already satisfied: threadpoolctl>=2.0.0 in /home/user1/.local/lib/python3.10/site-packages (from scikit-learn->sentence_transformers) (3.2.0)\n",
      "Requirement already satisfied: pillow!=8.3.*,>=5.3.0 in /home/user1/.local/lib/python3.10/site-packages (from torchvision->sentence_transformers) (10.1.0)\n",
      "Requirement already satisfied: mypy-extensions>=0.3.0 in /home/user1/.local/lib/python3.10/site-packages (from typing-inspect<1,>=0.4.0->dataclasses-json<0.7,>=0.5.7->langchain) (1.0.0)\n",
      "Requirement already satisfied: mpmath>=0.19 in /home/user1/.local/lib/python3.10/site-packages (from sympy->torch>=1.10.0->accelerate) (1.3.0)\n",
      "Installing collected packages: faiss-gpu\n",
      "Successfully installed faiss-gpu-1.7.2\n"
     ]
    }
   ],
   "source": [
    "################################################################\n",
    "# テキストデータから、類似性検索のためのベクトルDBを作成する\n",
    "################################################################\n",
    "\n",
    "# 必要なライブラリをインストール\n",
    "!pip install langchain tiktoken sentence_transformers faiss-gpu"
   ]
  },
  {
   "cell_type": "code",
   "execution_count": 2,
   "id": "55250a9a-6e08-40a7-91a9-12dce88157d2",
   "metadata": {
    "tags": []
   },
   "outputs": [
    {
     "name": "stdout",
     "output_type": "stream",
     "text": [
      "チャンクの総数:832\n",
      "チャンクされた文章の確認:\n",
      "page_content='私達は、単一のハイパーバイザー（ESXi）をサポートする単一のハードウェア プラットフォーム（NX）からスタートしましたが、常に単一のハイパーバイザー/プラットフォーム/クラウド企業以上の存在であることを認識していました。 これが、vCenter でプラグインではなく独自の UI をゼロから構築したり、カーネル内のネイティブなものではなくVM として実行したり、といった選択をした理由の1つです（他にも多くの理由があります）。 なぜでしょうか？ と聞かれるかもしれません。' metadata={'source': 'data/nutanixbible.txt'}\n"
     ]
    }
   ],
   "source": [
    "# テキストデータをチャンク化する\n",
    "import tiktoken\n",
    "from langchain.document_loaders import TextLoader\n",
    "from langchain.text_splitter import RecursiveCharacterTextSplitter\n",
    "\n",
    "filename = \"data/nutanixbible.txt\"\n",
    "\n",
    "loader = TextLoader(filename, encoding='utf-8')\n",
    "document = loader.load()\n",
    "\n",
    "text_splitter = RecursiveCharacterTextSplitter.from_tiktoken_encoder(\n",
    "    chunk_size=300,\n",
    "    chunk_overlap=20,\n",
    ")\n",
    "\n",
    "splitted_texts = text_splitter.split_documents(document)\n",
    "print(f\"チャンクの総数:{len(splitted_texts)}\")\n",
    "print(f\"チャンクされた文章の確認:\\n{splitted_texts[6]}\")\n"
   ]
  },
  {
   "cell_type": "code",
   "execution_count": 3,
   "id": "8af06ac6-c14f-472c-924f-9a16ed84787a",
   "metadata": {
    "tags": []
   },
   "outputs": [],
   "source": [
    "\n",
    "# Embeddingモデルを使ってベクトル化し、ベクトルDBを作成する\n",
    "# https://huggingface.co/intfloat/multilingual-e5-large\n",
    "\n",
    "import sentence_transformers\n",
    "from langchain.embeddings import HuggingFaceEmbeddings\n",
    "from langchain.vectorstores import FAISS\n",
    "\n",
    "# 文章からベクトルに変換するためのモデル\n",
    "embeddings = HuggingFaceEmbeddings(model_name='intfloat/multilingual-e5-Large')\n",
    "\n",
    "# ベクトルデータベースを作成\n",
    "db = FAISS.from_documents(splitted_texts, embeddings)"
   ]
  },
  {
   "cell_type": "code",
   "execution_count": 4,
   "id": "97c582d5-2122-4d54-a1f7-25126cdf2053",
   "metadata": {
    "tags": []
   },
   "outputs": [],
   "source": [
    "# ベクトルデータベースをファイルに出力\n",
    "db.save_local(\"./data/vectorstore\")\n"
   ]
  },
  {
   "cell_type": "code",
   "execution_count": 5,
   "id": "6334b7cd-8b25-4a1f-a39b-76d130037ef0",
   "metadata": {
    "tags": []
   },
   "outputs": [
    {
     "name": "stdout",
     "output_type": "stream",
     "text": [
      "処理時間[s]: 0.03\n",
      "page_content='ユーザー空間でVMとして実行する性質上、ハイパーバイザーの外部にあるため、アップグレードやCVMの「障害」といったものをエレガントに処理できます。 例えば、CVMがダウンするという破滅的な問題が発生した場合でも、ノード全体が、クラスタ内の他のCVMからのストレージI/Oとサービスで引き続き稼働します。 AOS（NutanixのCoreソフトウェア）のアップグレード中でも、そのホストで実行されているワークロードに影響を与えることなくCVMを再起動できます。' metadata={'source': 'data/nutanixbible.txt'}\n",
      "page_content='Book of Prismの「Nutanixソフトウェアのアップグレード」および「ハイパーバイザーのアップグレード」セクションで、AOSおよびハイパーバイザーバージョンのアップグレードを実行するために使用される手順を説明しました。 このセクションでは、さまざまなタイプのアップグレードを無停止で実行できるようにする方法について説明します。\\nAOSのアップグレードでは、いくつかの核となる手順が実行されます：' metadata={'source': 'data/nutanixbible.txt'}\n",
      "page_content='例えば、停電またはノード障害が発生した場合、ローカルのNutanixクラスタでは、ストレージはローカル デバイスに永続化されており、ノードや電源がオンラインに戻ると復旧します。 AWSインスタンス ストアの場合、このケースには当てはまりません。\\nほとんどの場合、AZ全体が電源を失うまたはダウンするという可能性は低いですが、 センシティブなワークロードの場合は、次のことをお勧めします：' metadata={'source': 'data/nutanixbible.txt'}\n"
     ]
    }
   ],
   "source": [
    "###################################################\n",
    "# ベクトル検索\n",
    "\n",
    "import time\n",
    "\n",
    "question = \"NutanixのAOSのアップグレードが失敗した場合の影響を教えてください。\"\n",
    "\n",
    "start = time.time()\n",
    "# 質問に対して、データベース中の類似度上位3件を抽出。質問の文章はこの関数でベクトル化され利用される\n",
    "docs = db.similarity_search(question, k=3)\n",
    "elapsed_time = time.time() - start\n",
    "print(f\"処理時間[s]: {elapsed_time:.2f}\")\n",
    "for i in range(len(docs)):\n",
    "    print(docs[i])"
   ]
  },
  {
   "cell_type": "code",
   "execution_count": null,
   "id": "f75b37cd-54b4-4ae5-8dad-f799842e4cce",
   "metadata": {},
   "outputs": [],
   "source": []
  }
 ],
 "metadata": {
  "kernelspec": {
   "display_name": "Python 3 (ipykernel)",
   "language": "python",
   "name": "python3"
  },
  "language_info": {
   "codemirror_mode": {
    "name": "ipython",
    "version": 3
   },
   "file_extension": ".py",
   "mimetype": "text/x-python",
   "name": "python",
   "nbconvert_exporter": "python",
   "pygments_lexer": "ipython3",
   "version": "3.10.12"
  }
 },
 "nbformat": 4,
 "nbformat_minor": 5
}
