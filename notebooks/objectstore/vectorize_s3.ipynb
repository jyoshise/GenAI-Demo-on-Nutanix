{
 "cells": [
  {
   "cell_type": "code",
   "execution_count": null,
   "id": "b94b789a-464a-4e0f-ac24-f9192eb9aca0",
   "metadata": {
    "tags": []
   },
   "outputs": [],
   "source": [
    "################################################################\n",
    "# テキストデータから、類似性検索のためのベクトルDBを作成する\n",
    "################################################################\n",
    "\n",
    "# 必要なライブラリをインストール\n",
    "# この環境にはインストール済み\n",
    "# !pip install langchain tiktoken sentence_transformers faiss-gpu boto3"
   ]
  },
  {
   "cell_type": "code",
   "execution_count": null,
   "id": "0648f0d4-a1de-4395-b003-0586622d3a13",
   "metadata": {},
   "outputs": [],
   "source": [
    "\n",
    "# オブジェクトストレージにアクセスするための設定\n",
    "# 使用するオブジェクトストレージに合わせて変更すること\n",
    "# キーをベタ書きしてるので良い子はまねしないでね\n",
    "\n",
    "\n",
    "accesskey = \"LpkzPlUyAwDO2CQHE0XnW307GdqSJtms\"　\n",
    "secretkey = \"bUewoPAJnoKI2FhzJPYQnnFkLG-v382z\"\n",
    "endpoint = \"http://10.38.76.10\"\n",
    "bucket = \"langchain-bucket\"\n"
   ]
  },
  {
   "cell_type": "code",
   "execution_count": null,
   "id": "55250a9a-6e08-40a7-91a9-12dce88157d2",
   "metadata": {
    "tags": []
   },
   "outputs": [],
   "source": [
    "# テキストデータをチャンク化する\n",
    "import tiktoken\n",
    "from langchain.document_loaders import S3FileLoader\n",
    "from langchain.text_splitter import RecursiveCharacterTextSplitter\n",
    "\n",
    "# オブジェクトストレージからテキストデータをロード\n",
    "filename = \"nutanixbible.txt\"\n",
    "\n",
    "loader = S3FileLoader(\n",
    "    bucket,\n",
    "    filename,\n",
    "    aws_access_key_id=accesskey ,\n",
    "    aws_secret_access_key=secretkey,\n",
    "    endpoint_url=endpoint\n",
    ")\n",
    "\n",
    "document = loader.load()\n",
    "\n",
    "# チャンクに分割\n",
    "text_splitter = RecursiveCharacterTextSplitter.from_tiktoken_encoder(\n",
    "    chunk_size=300,\n",
    "    chunk_overlap=20,\n",
    ")\n",
    "\n",
    "splitted_texts = text_splitter.split_documents(document)\n",
    "print(f\"チャンクの総数:{len(splitted_texts)}\")\n",
    "print(f\"チャンクされた文章の確認:\\n{splitted_texts[6]}\")\n"
   ]
  },
  {
   "cell_type": "code",
   "execution_count": null,
   "id": "8af06ac6-c14f-472c-924f-9a16ed84787a",
   "metadata": {
    "tags": []
   },
   "outputs": [],
   "source": [
    "\n",
    "# Embeddingモデルを使ってベクトル化し、ベクトルDBを作成する\n",
    "# https://huggingface.co/intfloat/multilingual-e5-large\n",
    "\n",
    "import sentence_transformers\n",
    "from langchain.embeddings import HuggingFaceEmbeddings\n",
    "from langchain.vectorstores import FAISS\n",
    "\n",
    "# 文章からベクトルに変換するためのモデル\n",
    "embeddings = HuggingFaceEmbeddings(model_name='intfloat/multilingual-e5-Large')\n",
    "\n",
    "# ベクトルデータベースを作成\n",
    "vectorstore = FAISS.from_documents(splitted_texts, embeddings)"
   ]
  },
  {
   "cell_type": "code",
   "execution_count": null,
   "id": "06401857-bac5-4ee9-a51f-b81b73894a58",
   "metadata": {},
   "outputs": [],
   "source": [
    "# ベクトルデータベースをオブジェクトストレージに保存\n",
    "\n",
    "# pickleでベクトルデータベースをオブジェクト化\n",
    "\n",
    "import boto3\n",
    "import pickle\n",
    "\n",
    "obj = pickle.dumps(vectorstore)\n",
    "\n",
    "# オブジェクトストレージに保存\n",
    "s3_client = boto3.client( \n",
    "    \"s3\",\n",
    "    aws_access_key_id=accesskey ,\n",
    "    aws_secret_access_key=secretkey,\n",
    "    endpoint_url=endpoint\n",
    ")\n",
    "key = \"vectorstore.pkl\"\n",
    "s3_client.put_object(Body=obj, Bucket=bucket, Key=key)"
   ]
  },
  {
   "cell_type": "code",
   "execution_count": null,
   "id": "6334b7cd-8b25-4a1f-a39b-76d130037ef0",
   "metadata": {
    "tags": []
   },
   "outputs": [],
   "source": [
    "###################################################\n",
    "# ベクトル検索\n",
    "\n",
    "import time\n",
    "\n",
    "question = \"NutanixのAOSのアップグレードが失敗した場合の影響を教えてください。\"\n",
    "\n",
    "start = time.time()\n",
    "# 質問に対して、データベース中の類似度上位3件を抽出。質問の文章はこの関数でベクトル化され利用される\n",
    "docs = vectorstore.similarity_search(question, k=3)\n",
    "elapsed_time = time.time() - start\n",
    "print(f\"処理時間[s]: {elapsed_time:.2f}\")\n",
    "for i in range(len(docs)):\n",
    "    print(docs[i])"
   ]
  },
  {
   "cell_type": "code",
   "execution_count": null,
   "id": "f75b37cd-54b4-4ae5-8dad-f799842e4cce",
   "metadata": {},
   "outputs": [],
   "source": []
  }
 ],
 "metadata": {
  "kernelspec": {
   "display_name": "Python 3 (ipykernel)",
   "language": "python",
   "name": "python3"
  },
  "language_info": {
   "codemirror_mode": {
    "name": "ipython",
    "version": 3
   },
   "file_extension": ".py",
   "mimetype": "text/x-python",
   "name": "python",
   "nbconvert_exporter": "python",
   "pygments_lexer": "ipython3",
   "version": "3.10.12"
  }
 },
 "nbformat": 4,
 "nbformat_minor": 5
}
