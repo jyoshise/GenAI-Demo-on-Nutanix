{
 "cells": [
  {
   "cell_type": "code",
   "execution_count": null,
   "id": "41f08784-18dc-4ccc-997e-5dff225e5f6c",
   "metadata": {},
   "outputs": [],
   "source": [
    "#####################################################\n",
    "# WebからHTMLを拾ってきてテキストデータを抽出し、オブジェクトストレージに保存する。\n",
    "#####################################################"
   ]
  },
  {
   "cell_type": "code",
   "execution_count": null,
   "id": "d7915c9c-96c2-44cb-8d24-fbbc82445ced",
   "metadata": {},
   "outputs": [],
   "source": [
    "# この環境にはインストール済み\n",
    "# ! pip install boto3 trafilatura"
   ]
  },
  {
   "cell_type": "code",
   "execution_count": null,
   "id": "3003c3a5-f143-4599-b144-67b3410c06e8",
   "metadata": {},
   "outputs": [],
   "source": [
    "# オブジェクトストレージにアクセスするための設定\n",
    "# 使用するオブジェクトストレージに合わせて変更すること\n",
    "# キーをベタ書きしてるので良い子はまねしないでね\n",
    "\n",
    "accesskey = \"LpkzPlUyAwDO2CQHE0XnW307GdqSJtms\"\n",
    "secretkey = \"bUewoPAJnoKI2FhzJPYQnnFkLG-v382z\"\n",
    "endpoint = \"http://10.38.76.10\"\n",
    "bucket = \"langchain-bucket\""
   ]
  },
  {
   "cell_type": "code",
   "execution_count": null,
   "id": "118d4029-ae05-4668-ab62-77e23d0fe2a2",
   "metadata": {
    "tags": []
   },
   "outputs": [],
   "source": [
    "##################\n",
    "# trafilaturaでテキストデータの取得\n",
    "\n",
    "from trafilatura import fetch_url, extract\n",
    "\n",
    "url = \"https://www.nutanixbible.jp/\"\n",
    "\n",
    "# ウェブページをダウンロード\n",
    "http_response = fetch_url(url)\n",
    "\n",
    "# HTML から本文を抽出\n",
    "html_content = extract(http_response)\n",
    "\n",
    "# データ取得の確認\n",
    "print(f\"ダウンロードしたHTMLの文章先頭部分：\\n{html_content[:300]}\")\n"
   ]
  },
  {
   "cell_type": "code",
   "execution_count": null,
   "id": "45410e99-2b79-4c9f-86f8-16f7d0de1a16",
   "metadata": {},
   "outputs": [],
   "source": [
    "# オブジェクトストレージに書き込み\n",
    "\n",
    "import boto3\n",
    "\n",
    "s3_client = boto3.client( \n",
    "    \"s3\",\n",
    "    aws_access_key_id=\"LpkzPlUyAwDO2CQHE0XnW307GdqSJtms\" ,\n",
    "    aws_secret_access_key=\"bUewoPAJnoKI2FhzJPYQnnFkLG-v382z\",\n",
    "    endpoint_url=\"http://10.38.76.10\"\n",
    ")\n",
    "bucket = \"langchain-bucket\"\n",
    "\n",
    "key = \"nutanixbible.txt\"\n",
    "\n",
    "s3_client.put_object(Body=html_content, Bucket=bucket, Key=key)"
   ]
  },
  {
   "cell_type": "code",
   "execution_count": null,
   "id": "1c624340-1c2a-42e8-ba76-9fc680500191",
   "metadata": {},
   "outputs": [],
   "source": []
  }
 ],
 "metadata": {
  "kernelspec": {
   "display_name": "Python 3 (ipykernel)",
   "language": "python",
   "name": "python3"
  },
  "language_info": {
   "codemirror_mode": {
    "name": "ipython",
    "version": 3
   },
   "file_extension": ".py",
   "mimetype": "text/x-python",
   "name": "python",
   "nbconvert_exporter": "python",
   "pygments_lexer": "ipython3",
   "version": "3.10.12"
  }
 },
 "nbformat": 4,
 "nbformat_minor": 5
}
